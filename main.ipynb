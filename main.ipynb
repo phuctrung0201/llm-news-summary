{
 "cells": [
  {
   "cell_type": "code",
   "execution_count": 1,
   "id": "f2253395-83f3-40ae-8a0f-50005b93c649",
   "metadata": {},
   "outputs": [],
   "source": [
    "import dataset\n",
    "import util\n",
    "import model\n",
    "\n",
    "from tensorflow import reshape\n",
    "\n",
    "dataset_paths = dataset.load_dataset_path()"
   ]
  },
  {
   "cell_type": "code",
   "execution_count": 2,
   "id": "d90f52a7-c0a0-4067-8f0a-4b2213903008",
   "metadata": {},
   "outputs": [
    {
     "name": "stdout",
     "output_type": "stream",
     "text": [
      "1/1 [==============================] - 0s 31ms/step\n",
      "[[1.]]\n"
     ]
    }
   ],
   "source": [
    "llm = model.LLM()\n",
    "sentence = dataset.load_text(dataset_paths[0][0])\n",
    "summary = dataset.load_text(dataset_paths[0][1])\n",
    "\n",
    "sentence_vector = util.get_sentence_vector(sentence)\n",
    "sentence_vector = reshape(sentence_vector, [1, -1 , util.TOKENS_LEN])\n",
    "# summary_vector = util.get_vectorized_sentence(summary)\n",
    "# summary_vector = reshape(summary_vector, [-1 , 1])\n",
    "\n",
    "prediction = llm.predict(sentence_vector)\n",
    "print(prediction)"
   ]
  }
 ],
 "metadata": {
  "kernelspec": {
   "display_name": "Python 3 (ipykernel)",
   "language": "python",
   "name": "python3"
  },
  "language_info": {
   "codemirror_mode": {
    "name": "ipython",
    "version": 3
   },
   "file_extension": ".py",
   "mimetype": "text/x-python",
   "name": "python",
   "nbconvert_exporter": "python",
   "pygments_lexer": "ipython3",
   "version": "3.8.19"
  }
 },
 "nbformat": 4,
 "nbformat_minor": 5
}
