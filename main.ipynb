{
 "cells": [
  {
   "cell_type": "code",
   "execution_count": 6,
   "id": "f2253395-83f3-40ae-8a0f-50005b93c649",
   "metadata": {},
   "outputs": [],
   "source": [
    "import dataset\n",
    "import util\n",
    "import model\n",
    "\n",
    "from tensorflow import reshape\n",
    "\n",
    "dataset_paths = dataset.load_dataset_path()"
   ]
  },
  {
   "cell_type": "code",
   "execution_count": 15,
   "id": "d90f52a7-c0a0-4067-8f0a-4b2213903008",
   "metadata": {},
   "outputs": [
    {
     "name": "stdout",
     "output_type": "stream",
     "text": [
      "WARNING:tensorflow:6 out of the last 6 calls to <function Model.make_predict_function.<locals>.predict_function at 0x152521790> triggered tf.function retracing. Tracing is expensive and the excessive number of tracings could be due to (1) creating @tf.function repeatedly in a loop, (2) passing tensors with different shapes, (3) passing Python objects instead of tensors. For (1), please define your @tf.function outside of the loop. For (2), @tf.function has reduce_retracing=True option that can avoid unnecessary retracing. For (3), please refer to https://www.tensorflow.org/guide/function#controlling_retracing and https://www.tensorflow.org/api_docs/python/tf/function for  more details.\n",
      "1/1 [==============================] - 0s 18ms/step\n",
      "(1, 2183, 1)\n"
     ]
    }
   ],
   "source": [
    "llm = model.LLM()\n",
    "sentence = dataset.load_text(dataset_paths[0][0])\n",
    "summary = dataset.load_text(dataset_paths[0][1])\n",
    "\n",
    "sentence_vector = util.get_vectorized_sentence(sentence)\n",
    "sentence_vector = reshape(sentence_vector, [1, -1 , 1])\n",
    "summary_vector = util.get_vectorized_sentence(summary)\n",
    "summary_vector = reshape(summary_vector, [-1 , 1])\n",
    "\n",
    "prediction = llm.predict(sentence_vector)\n",
    "\n",
    "print(sentence_vector.shape)"
   ]
  }
 ],
 "metadata": {
  "kernelspec": {
   "display_name": "Python 3 (ipykernel)",
   "language": "python",
   "name": "python3"
  },
  "language_info": {
   "codemirror_mode": {
    "name": "ipython",
    "version": 3
   },
   "file_extension": ".py",
   "mimetype": "text/x-python",
   "name": "python",
   "nbconvert_exporter": "python",
   "pygments_lexer": "ipython3",
   "version": "3.8.19"
  }
 },
 "nbformat": 4,
 "nbformat_minor": 5
}
